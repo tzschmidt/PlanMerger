{
 "cells": [
  {
   "cell_type": "markdown",
   "metadata": {},
   "source": [
    "# Benchmark Enigne Lab\n",
    "Lab Notebook with the goal to create a benhcmarking engine for asprilo\n",
    "\n",
    "In this approach it is assumed that each robot only has to reach its destined shelf (orders and products are kind of ignored).\n",
    "\n",
    "In that regard it is assumed that each robot is with robot numer $n$ is moving to the shelf with shlef number $n$ "
   ]
  },
  {
   "cell_type": "code",
   "execution_count": 2,
   "metadata": {},
   "outputs": [],
   "source": [
    "import os\n",
    "import matplotlib.pyplot as plt\n",
    "import numpy as np\n",
    "# from copy import deepcopy"
   ]
  },
  {
   "cell_type": "markdown",
   "metadata": {},
   "source": [
    "List of Robot colors: (currently max 10 Robots) :"
   ]
  },
  {
   "cell_type": "code",
   "execution_count": 3,
   "metadata": {},
   "outputs": [],
   "source": [
    "colors = ['red', 'blue', 'yellow', 'green', 'purple', 'pink', 'orange', 'grey', 'lime', 'black']"
   ]
  },
  {
   "cell_type": "code",
   "execution_count": 4,
   "metadata": {},
   "outputs": [],
   "source": [
    "def import_benchmark(path):\n",
    "    if os.path.isdir(path):\n",
    "        if os.path.isdir(path + \"/full_instance\") and os.path.isdir(path + \"/plans\"):\n",
    "            f = open(f\"{path}/full_instance/{os.listdir(path + '/full_instance')[0]}\", \"r\")\n",
    "            instance = f.read()\n",
    "            f.close()\n",
    "            \n",
    "            plans = []\n",
    "            for plan in os.listdir(path + \"/plans\"):\n",
    "                if plan.split('.')[-1] == 'lp':\n",
    "                    f = open(f\"{path}/plans/{plan}\", \"r\")\n",
    "                    plans.append(f.read().replace('\\n', ' '))\n",
    "                    f.close()\n",
    "                    \n",
    "            return instance.replace('\\n', ' '), plans\n",
    "        else:\n",
    "            raise ValueError(\"The given directory structure for the selected benchmark is incompatible with this programm\")\n",
    "            # Not the correct Benchmark structure\n",
    "    else:\n",
    "        raise ValueError(\"Cannot find the directory given\")\n",
    "        # Not the right path selected"
   ]
  },
  {
   "cell_type": "code",
   "execution_count": 5,
   "metadata": {},
   "outputs": [],
   "source": [
    "instance, plans = import_benchmark(\"/home/hannes/Programming/PlanMerger/instances/benchmarks/4_multi_robot_edge_constraint_benchmark [Level 3]\")"
   ]
  },
  {
   "cell_type": "code",
   "execution_count": 6,
   "metadata": {},
   "outputs": [],
   "source": [
    "def split_statements(strng):\n",
    "    res = {}\n",
    "    strng_split = strng.split()\n",
    "    for s in strng_split:\n",
    "        if s.endswith('.'):\n",
    "            open_b_count = s.count('(')\n",
    "            closed_b_count = s.count(')')\n",
    "            if open_b_count and open_b_count == closed_b_count:\n",
    "                s_content = ')'.join(('('.join(s.split('(')[1:])).split(')')[:-1])\n",
    "                if s.split('(')[0] in res:\n",
    "                    res[s.split('(')[0]].append(s_content)\n",
    "                else:\n",
    "                    res[s.split('(')[0]] = [s_content]\n",
    "    return res"
   ]
  },
  {
   "cell_type": "code",
   "execution_count": 7,
   "metadata": {},
   "outputs": [
    {
     "data": {
      "text/plain": [
       "{'occurs1': ['object(robot,1),action(move,(1,0)),1',\n",
       "  'object(robot,1),action(move,(1,0)),2',\n",
       "  'object(robot,1),action(move,(1,0)),3']}"
      ]
     },
     "execution_count": 7,
     "metadata": {},
     "output_type": "execute_result"
    }
   ],
   "source": [
    "split_statements(plans[0])"
   ]
  },
  {
   "cell_type": "code",
   "execution_count": 316,
   "metadata": {},
   "outputs": [],
   "source": [
    "def benchmark_prep(path, verbose=0):\n",
    "    instance, plans = import_benchmark(path)\n",
    "    inits = split_statements(instance)['init']\n",
    "    robot_movements = []\n",
    "    for i, plan in enumerate(plans):\n",
    "        robot_movements += split_statements(plan)['occurs1']\n",
    "\n",
    "    return Benchmark(inits, robot_movements)"
   ]
  },
  {
   "cell_type": "code",
   "execution_count": 332,
   "metadata": {},
   "outputs": [],
   "source": [
    "class Benchmark:\n",
    "    \n",
    "    def __init__(self, *inp):\n",
    "        \n",
    "        verbose = 1\n",
    "        \n",
    "        if len(inp) == 1:\n",
    "            path = inp[0]\n",
    "            instance, plans = self.import_benchmark(path)\n",
    "            inits = self.split_statements(instance)['init']\n",
    "            robot_movements = []\n",
    "            for i, plan in enumerate(plans):\n",
    "                robot_movements += self.split_statements(plan)['occurs1']\n",
    "\n",
    "            # initialise the dictionaries (self.robots and self.shefs) and the lists (self.nodes, self.highways)\n",
    "            self.robots, self.shelfs, self.nodes, self.highways = self.format_benchmark_inits(inits)\n",
    "            # initialise the dictionary self.original_plans which contains the original plans movements\n",
    "            self.original_plans = self.format_benchmark_movements(robot_movements)\n",
    "\n",
    "            # Fill the original plans with [0,0] movements at the timesteps where there is not movement\n",
    "            self.original_plans = self.get_filled_plans(self.original_plans)\n",
    "\n",
    "            if verbose:\n",
    "                print(f\"nodes: {self.nodes}\")\n",
    "                print(f\"highways: {self.highways}\")\n",
    "                print(f\"selfs: {self.shelfs}\")\n",
    "                print(f\"robots: {self.robots}\")\n",
    "                print(f\"original plans: {self.original_plans}\")\n",
    "                self.plot()\n",
    "                \n",
    "        elif len(inp) == 2:\n",
    "            inits = inp[0]\n",
    "            robot_movements = inp[1]\n",
    "            # initialise the dictionaries (self.robots and self.shefs) and the lists (self.nodes, self.highways)\n",
    "            self.robots, self.shelfs, self.nodes, self.highways = self.format_benchmark_inits(inits)\n",
    "            # initialise the dictionary self.original_plans which contains the original plans movements\n",
    "            self.original_plans = self.format_benchmark_movements(robot_movements)\n",
    "\n",
    "            # Fill the original plans with [0,0] movements at the timesteps where there is not movement\n",
    "            self.original_plans = self.get_filled_plans(self.original_plans)\n",
    "\n",
    "            if verbose:\n",
    "                print(f\"nodes: {self.nodes}\")\n",
    "                print(f\"highways: {self.highways}\")\n",
    "                print(f\"selfs: {self.shelfs}\")\n",
    "                print(f\"robots: {self.robots}\")\n",
    "                print(f\"original plans: {self.original_plans}\")\n",
    "                self.plot()\n",
    "                \n",
    "        else:\n",
    "            raise ValueError(\"Benchmarks can only be initialised with either (benchmark_path) or \"\n",
    "                             \"(inits, robot_movements) as parameters\")\n",
    "    \n",
    "    @staticmethod\n",
    "    def import_benchmark(path):\n",
    "        if os.path.isdir(path):\n",
    "            if os.path.isdir(path + \"/full_instance\") and os.path.isdir(path + \"/plans\"):\n",
    "                f = open(f\"{path}/full_instance/{os.listdir(path + '/full_instance')[0]}\", \"r\")\n",
    "                instance = f.read()\n",
    "                f.close()\n",
    "\n",
    "                plans = []\n",
    "                for plan in os.listdir(path + \"/plans\"):\n",
    "                    if plan.split('.')[-1] == 'lp':\n",
    "                        f = open(f\"{path}/plans/{plan}\", \"r\")\n",
    "                        plans.append(f.read().replace('\\n', ' '))\n",
    "                        f.close()\n",
    "\n",
    "                return instance.replace('\\n', ' '), plans\n",
    "            else:\n",
    "                raise ValueError(\"The given directory structure for the selected benchmark is incompatible with this programm\")\n",
    "                # Not the correct Benchmark structure\n",
    "        else:\n",
    "            raise ValueError(\"Cannot find the directory given\")\n",
    "            # Not the right path selected\n",
    "    \n",
    "    @staticmethod\n",
    "    def split_statements(strng):\n",
    "        res = {}\n",
    "        strng_split = strng.split()\n",
    "        for s in strng_split:\n",
    "            if s.endswith('.'):\n",
    "                open_b_count = s.count('(')\n",
    "                closed_b_count = s.count(')')\n",
    "                if open_b_count and open_b_count == closed_b_count:\n",
    "                    s_content = ')'.join(('('.join(s.split('(')[1:])).split(')')[:-1])\n",
    "                    if s.split('(')[0] in res:\n",
    "                        res[s.split('(')[0]].append(s_content)\n",
    "                    else:\n",
    "                        res[s.split('(')[0]] = [s_content]\n",
    "        return res\n",
    "    \n",
    "    @staticmethod\n",
    "    def format_benchmark_inits(inits):\n",
    "        # [robots, shelfs, nodes, highways]\n",
    "        res = [{}, {}, [], []]\n",
    "        \n",
    "        for init in inits:\n",
    "            name = Benchmark.get_object_name(init)\n",
    "            if name[0] == 'robot':\n",
    "                res[0][int(name[1])] = Benchmark.get_object_value(init)\n",
    "            elif name[0] == 'shelf':\n",
    "                res[1][int(name[1])] = Benchmark.get_object_value(init)\n",
    "            elif name[0] == 'node':\n",
    "                res[2].append(Benchmark.get_object_value(init))\n",
    "            elif name[0] == 'highway':\n",
    "                res[3].append(Benchmark.get_object_value(init))\n",
    "                \n",
    "        return res[0], res[1], res[2], res[3]\n",
    "    \n",
    "    @staticmethod\n",
    "    def format_benchmark_movements(robot_movements):\n",
    "        res = {}\n",
    "        for movement in robot_movements:\n",
    "            time_step = int(movement.split(',')[-1])\n",
    "            action = ','.join(movement.split(',')[:-1])\n",
    "            \n",
    "            name = Benchmark.get_object_name(action)\n",
    "            if int(name[1]) in res:\n",
    "                res[int(name[1])].append([time_step, Benchmark.get_object_value(action)])\n",
    "            else:\n",
    "                res[int(name[1])] = [[time_step, Benchmark.get_object_value(action)]]\n",
    "        return res\n",
    "    \n",
    "    @staticmethod\n",
    "    def get_object_name(strng):\n",
    "        return strng.split('(')[1].split(')')[0].split(',')\n",
    "    \n",
    "    @staticmethod\n",
    "    def get_object_value(strng):\n",
    "        val_str = (')'.join(strng.split(')')[1:]))[1:]\n",
    "        val_content_str = ('('.join(val_str.split('(')[1:]))[:-1]\n",
    "        values_str = ','.join(val_content_str.split(',')[1:])\n",
    "        return [int(val) for val in values_str[1:-1].split(',')]\n",
    "    \n",
    "    @staticmethod\n",
    "    def get_filled_plans(plans):\n",
    "        filled_plans = plans\n",
    "        max_t = max(max([[move[0] for move in plan] for plan in list(filled_plans.values())], key=lambda x: max(x)))\n",
    "        for robot_id in list(filled_plans.keys()):\n",
    "            plan = filled_plans[robot_id]\n",
    "            plan_sorted = sorted(plan, key=lambda x: x[0])\n",
    "            \n",
    "            for t in range(1, max_t):\n",
    "                # insert missing [0,0] movements at timesteps where there is no movement (in between)\n",
    "                if plan_sorted[t-1][0] != t:\n",
    "                    plan_sorted = plan_sorted[:t-1] + [[t,[0,0]]] + plan_sorted[t-1:]\n",
    "                # insert missing [0,0] movements at timesteps where there is no movement (at the end if t still smaller than max_t)\n",
    "                elif t == len(plan_sorted) and t < max_t:\n",
    "                    plan_sorted = plan_sorted + [[t,[0,0]]]\n",
    "            filled_plans[robot_id] = plan_sorted\n",
    "        return filled_plans\n",
    "    \n",
    "    def calculate_plan_positions(self, plan, robot_id):\n",
    "        plan_sorted = sorted(plan, key=lambda x: x[0])\n",
    "        start_pos = self.robots[robot_id]\n",
    "        \n",
    "        times = [0]\n",
    "        positions = [start_pos]\n",
    "        pos = np.array(start_pos)\n",
    "        for move in plan_sorted:\n",
    "            pos += np.array(move[1])\n",
    "            times.append(move[0])\n",
    "            positions.append(list(pos))\n",
    "        return times, np.array(positions)\n",
    "    \n",
    "    def check_solution(self, plans):\n",
    "        position_data = []\n",
    "        time_data = []\n",
    "        for plan in list(zip(plans.keys(), plans.values())):\n",
    "            time, pos = self.calculate_plan_positions(plan[1], plan[0])\n",
    "            position_data.append(pos)\n",
    "            time_data.append(time)\n",
    "        position_data = np.array(position_data)\n",
    "        \n",
    "        vertex_conflicts = self.get_vertex_conflicts(position_data, time_data)\n",
    "        edge_conflicts = self.get_edge_donflicts(position_data, time_data)\n",
    "        \n",
    "        res = {'vertex_conflicts':vertex_conflicts, 'edge_conflicts':edge_conflicts}\n",
    "        return not(vertex_conflicts) and not(edge_conflicts), res\n",
    "    \n",
    "    def get_vertex_conflicts(self, position_data, time_data):\n",
    "        vertex_conflicts = []\n",
    "        # for each robot's plan go through every step and compare with the other robots positions\n",
    "        for robot_id, plan_pos in enumerate(position_data):\n",
    "            for t, pos in enumerate(plan_pos):\n",
    "                for other_plan in np.concatenate((position_data[:robot_id], position_data[robot_id+1:])):\n",
    "                    # check if the robot and any of the other robots are at the same place at the same time\n",
    "                    if (pos == other_plan[t]).all():\n",
    "                        vertex_conflicts.append([t, pos])\n",
    "        return vertex_conflicts\n",
    "        \n",
    "    def get_edge_donflicts(self, position_data, time_data):\n",
    "        edge_conflicts = []\n",
    "        # for each robot's plan go through every step and compare with the other robots positions\n",
    "        for robot_id, plan_pos in enumerate(position_data):\n",
    "            for t, pos in enumerate(plan_pos):\n",
    "                for other_plan in np.concatenate((position_data[:robot_id], position_data[robot_id+1:])):\n",
    "                    # check if the robot and any of the other robots are switching positons\n",
    "                    if t+1 < len(other_plan):\n",
    "                        if (pos == other_plan[t+1]).all():\n",
    "                            if t+1 < len(plan_pos):\n",
    "                                if (plan_pos[t+1] == other_plan[t]).all():\n",
    "                                    # check if the edge conflict is not already detected, but from the other robot\n",
    "                                    conflicts_tmp = [[c[0], list(c[1]), list(c[2])] for c in edge_conflicts]\n",
    "                                    if [t, list(other_plan[t]), list(pos)] not in conflicts_tmp:\n",
    "                                        edge_conflicts.append([t, pos, other_plan[t]])\n",
    "        return edge_conflicts\n",
    "    \n",
    "    def plot(self, plans=None, original_plans=True, scale_factor=1, show_text=True):\n",
    "        np_nodes = np.array(self.nodes)\n",
    "        max_x = np_nodes[:,0].max()\n",
    "        max_y = np_nodes[:,1].max()\n",
    "        \n",
    "        fig, ax = plt.subplots(figsize=(max_x*3*scale_factor, max_y*2*scale_factor))\n",
    "        ax.set_xlim(0, max_x)\n",
    "        ax.set_ylim(0, max_y)\n",
    "        ax.grid()\n",
    "        ax.set_xticks(list(range(max_x + 1)))\n",
    "        ax.set_yticks(list(range(max_y + 1)))\n",
    "        #plt.gca().set_xticklabels([])\n",
    "        #plt.gca().set_yticklabels([])\n",
    "        \n",
    "        for node in self.nodes:\n",
    "            if node not in self.highways:\n",
    "                rectangle = plt.Rectangle((node[0] - 1, node[1] - 1), 1, 1, fc='blue', alpha=0.125)\n",
    "                ax.add_patch(rectangle)\n",
    "                \n",
    "        for highway in self.highways:\n",
    "            rectangle = plt.Rectangle((highway[0] - 1, highway[1] - 1), 1, 1, fc='green', alpha=0.125)\n",
    "            ax.add_patch(rectangle)\n",
    "        \n",
    "        for robot in list(zip(self.robots.keys(), self.robots.values())):\n",
    "            ax.scatter(robot[1][0] - 0.5, robot[1][1] - 0.5, s=(10**3.5)*scale_factor, c=colors[robot[0]-1], marker='s', alpha=0.5)\n",
    "            if scale_factor >= 0.5 and show_text:\n",
    "                ax.annotate(f'robot {robot[0]}', (robot[1][0] - 0.63, robot[1][1] - 0.53))\n",
    "            \n",
    "        for shelf in list(zip(self.shelfs.keys(), self.shelfs.values())):\n",
    "            ax.scatter(shelf[1][0] - 0.5, shelf[1][1] - 0.5, s=(10**3.5)*scale_factor, c=colors[shelf[0]-1], marker='o', alpha=0.5)\n",
    "            if scale_factor >= 0.5 and show_text:\n",
    "                ax.annotate(f'shelf {shelf[0]}', (shelf[1][0] - 0.62, shelf[1][1] - 0.53))\n",
    "        \n",
    "        if original_plans:\n",
    "            for plan in list(zip(self.original_plans.keys(), self.original_plans.values())):\n",
    "                times, positions = self.calculate_plan_positions(plan[1], plan[0])\n",
    "                ax.plot(positions.T[0] - 0.5, positions.T[1] - 0.5, c=colors[plan[0]-1], alpha=0.125, linewidth=5*scale_factor,\n",
    "                        marker='o')\n",
    "            \n",
    "        if plans:\n",
    "            for plan in list(zip(plans.keys(), plans.values())):\n",
    "                times, positions = self.calculate_plan_positions(plan[1], plan[0])\n",
    "                ax.plot(positions.T[0] - 0.5, positions.T[1] - 0.5, c=colors[plan[0]-1], alpha=0.25, linewidth=15*scale_factor,\n",
    "                        marker='o', markersize=15*scale_factor)\n",
    "        plt.show()"
   ]
  },
  {
   "cell_type": "code",
   "execution_count": 333,
   "metadata": {},
   "outputs": [
    {
     "name": "stdout",
     "output_type": "stream",
     "text": [
      "nodes: [[1, 2], [2, 2], [3, 2], [4, 2], [5, 2], [6, 2], [1, 3], [2, 3], [3, 3], [4, 3], [5, 3], [6, 3]]\n",
      "highways: [[2, 2], [3, 2], [4, 2], [5, 2], [2, 3], [3, 3], [4, 3], [5, 3]]\n",
      "selfs: {1: [6, 2], 2: [1, 2], 3: [6, 3], 4: [1, 3]}\n",
      "robots: {1: [3, 2], 2: [4, 2], 3: [3, 3], 4: [4, 3]}\n",
      "original plans: {1: [[1, [1, 0]], [2, [1, 0]], [3, [1, 0]], [4, [0, 0]], [5, [0, 0]], [6, [0, 0]], [7, [0, 0]], [8, [0, 0]], [9, [0, 0]], [10, [1, 0]]], 2: [[1, [-1, 0]], [2, [-1, 0]], [3, [-1, 0]], [4, [0, 0]], [5, [0, 0]], [6, [0, 0]], [7, [0, 0]], [8, [0, 0]], [9, [0, 0]], [3, [0, 0]]], 3: [[1, [1, 0]], [2, [1, 0]], [3, [1, 0]], [4, [0, 0]], [5, [0, 0]], [6, [0, 0]], [7, [0, 0]], [8, [0, 0]], [9, [0, 0]], [3, [0, 0]]], 4: [[1, [-1, 0]], [2, [-1, 0]], [3, [-1, 0]], [4, [0, 0]], [5, [0, 0]], [6, [0, 0]], [7, [0, 0]], [8, [0, 0]], [9, [0, 0]], [3, [0, 0]]]}\n"
     ]
    },
    {
     "data": {
      "image/png": "[encoded data removed]",
      "text/plain": [
       "<Figure size 1296x432 with 1 Axes>"
      ]
     },
     "metadata": {
      "needs_background": "light"
     },
     "output_type": "display_data"
    },
    {
     "data": {
      "text/plain": [
       "(False,\n",
       " {'vertex_conflicts': [],\n",
       "  'edge_conflicts': [[0, array([3, 2]), array([4, 2])],\n",
       "   [0, array([3, 3]), array([4, 3])]]})"
      ]
     },
     "execution_count": 333,
     "metadata": {},
     "output_type": "execute_result"
    }
   ],
   "source": [
    "b1 = benchmark_prep(\"/home/hannes/Programming/PlanMerger/instances/benchmarks/4_multi_robot_edge_constraint_benchmark [Level 3]\")\n",
    "b1.check_solution(b1.original_plans)"
   ]
  },
  {
   "cell_type": "code",
   "execution_count": 334,
   "metadata": {},
   "outputs": [
    {
     "data": {
      "image/png": "[encoded data removed]",
      "text/plain": [
       "<Figure size 972x324 with 1 Axes>"
      ]
     },
     "metadata": {
      "needs_background": "light"
     },
     "output_type": "display_data"
    }
   ],
   "source": [
    "b1.plot(plans=b1.original_plans, scale_factor=0.75, show_text=False)"
   ]
  },
  {
   "cell_type": "code",
   "execution_count": 335,
   "metadata": {},
   "outputs": [
    {
     "name": "stdout",
     "output_type": "stream",
     "text": [
      "nodes: [[3, 1], [3, 2], [1, 3], [2, 3], [3, 3], [4, 3], [5, 3], [3, 4], [3, 5]]\n",
      "highways: [[3, 2], [2, 3], [3, 3], [4, 3], [3, 4]]\n",
      "selfs: {1: [5, 3], 2: [3, 1]}\n",
      "robots: {1: [3, 5], 2: [1, 3]}\n",
      "original plans: {1: [[1, [0, -1]], [2, [0, -1]], [3, [0, -1]], [4, [0, -1]]], 2: [[1, [1, 0]], [2, [1, 0]], [3, [1, 0]], [4, [1, 0]]]}\n"
     ]
    },
    {
     "data": {
      "image/png": "[encoded data removed]",
      "text/plain": [
       "<Figure size 1080x720 with 1 Axes>"
      ]
     },
     "metadata": {
      "needs_background": "light"
     },
     "output_type": "display_data"
    }
   ],
   "source": [
    "b2 = Benchmark(\"/home/hannes/Programming/PlanMerger/instances/benchmarks/1_vertex_constraint_benchmark [Level 1]\")"
   ]
  },
  {
   "cell_type": "code",
   "execution_count": 326,
   "metadata": {},
   "outputs": [
    {
     "data": {
      "text/plain": [
       "(False,\n",
       " {'vertex_conflicts': [[2, array([3, 3])], [2, array([3, 3])]],\n",
       "  'edge_conflicts': []})"
      ]
     },
     "execution_count": 326,
     "metadata": {},
     "output_type": "execute_result"
    }
   ],
   "source": [
    "b2.check_solution(b2.original_plans)"
   ]
  },
  {
   "cell_type": "code",
   "execution_count": null,
   "metadata": {},
   "outputs": [],
   "source": []
  }
 ],
 "metadata": {
  "kernelspec": {
   "display_name": "Python 3",
   "language": "python",
   "name": "python3"
  },
  "language_info": {
   "codemirror_mode": {
    "name": "ipython",
    "version": 3
   },
   "file_extension": ".py",
   "mimetype": "text/x-python",
   "name": "python",
   "nbconvert_exporter": "python",
   "pygments_lexer": "ipython3",
   "version": "3.7.6"
  }
 },
 "nbformat": 4,
 "nbformat_minor": 4
}
